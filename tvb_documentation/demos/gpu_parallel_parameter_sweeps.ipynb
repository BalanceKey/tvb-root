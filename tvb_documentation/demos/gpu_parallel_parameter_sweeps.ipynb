{
 "cells": [
  {
   "cell_type": "markdown",
   "metadata": {},
   "source": [
    "# GPU-based parallel parameter sweeps\n",
    "\n",
    "A frequent bottleneck in TVB-based studies are the parameter sweeps that allow a TVB user to characterize the sensitivity of a TVB model to key parameters such as a conduction velocity and coupling strength.  Because the sequence of simulations are parallel and independant, they are amenable to parallelization using general purpose graphics processing units (GPUs) which are now frequently found in HPC centers.\n",
    "\n",
    "## Quickstart\n",
    "\n",
    "To assist with a user running on a HPC site via Slurm or similar job scheduler, a helpful command line interface is provided,"
   ]
  },
  {
   "cell_type": "code",
   "execution_count": 1,
   "metadata": {},
   "outputs": [
    {
     "name": "stdout",
     "output_type": "stream",
     "text": [
      "2020-09-11 13:22:53,114 - WARNING - tvb.simulator.common - psutil module not available: no warnings will be issued when a\n",
      "    simulation may require more memory than available\n",
      "   INFO  log level set to INFO\n",
      "/home/maedoc/src/tvb-root/scientific_library/tvb/datatypes/surfaces.py:61: UserWarning: Geodesic distance module is unavailable; some functionality for surfaces will be unavailable.\n",
      "  warnings.warn(msg)\n",
      "usage: __main__.py [-h] [-c N_COUPLING] [-s N_SPEED] [-t] [-n N_TIME] [-v]\n",
      "                   [--node_threads NODE_THREADS]\n",
      "                   [--model {Rwongwang,Kuramoto,Epileptor,Oscillator,Oscillatorref,Kuramotoref,Rwongwangref,Epileptorref}]\n",
      "                   [--lineinfo] [--filename FILENAME] [-b BENCH]\n",
      "                   [-bx BLOCKSZX] [-by BLOCKSZY] [-val VALIDATE]\n",
      "\n",
      "Run parameter sweep.\n",
      "\n",
      "optional arguments:\n",
      "  -h, --help            show this help message and exit\n",
      "  -c N_COUPLING, --n_coupling N_COUPLING\n",
      "                        num grid points for coupling parameter\n",
      "  -s N_SPEED, --n_speed N_SPEED\n",
      "                        num grid points for speed parameter\n",
      "  -t, --test            check results\n",
      "  -n N_TIME, --n_time N_TIME\n",
      "                        number of time steps to do (default 400)\n",
      "  -v, --verbose         increase logging verbosity\n",
      "  --node_threads NODE_THREADS\n",
      "  --model {Rwongwang,Kuramoto,Epileptor,Oscillator,Oscillatorref,Kuramotoref,Rwongwangref,Epileptorref}\n",
      "                        neural mass model to be used during the simulation\n",
      "  --lineinfo\n",
      "  --filename FILENAME   Filename to use as GPU kernel definition\n",
      "  -b BENCH, --bench BENCH\n",
      "                        What to bench: regular, numba, cuda\n",
      "  -bx BLOCKSZX, --blockszx BLOCKSZX\n",
      "                        Enter block size x\n",
      "  -by BLOCKSZY, --blockszy BLOCKSZY\n",
      "                        Enter block size y\n",
      "  -val VALIDATE, --validate VALIDATE\n",
      "                        Enable validation to refmodels\n"
     ]
    }
   ],
   "source": [
    "!python -m tvb.dsl_cuda.run --help"
   ]
  },
  {
   "cell_type": "markdown",
   "metadata": {},
   "source": [
    "This allows for configuring and running a parameter sweep in single command,"
   ]
  },
  {
   "cell_type": "code",
   "execution_count": 4,
   "metadata": {},
   "outputs": [
    {
     "name": "stdout",
     "output_type": "stream",
     "text": [
      "2020-09-11 13:25:33,377 - WARNING - tvb.simulator.common - psutil module not available: no warnings will be issued when a\n",
      "    simulation may require more memory than available\n",
      "   INFO  log level set to INFO\n",
      "/home/maedoc/src/tvb-root/scientific_library/tvb/datatypes/surfaces.py:61: UserWarning: Geodesic distance module is unavailable; some functionality for surfaces will be unavailable.\n",
      "  warnings.warn(msg)\n",
      "WARNING  File 'cortical' not found in ZIP.\n",
      "WARNING  File 'hemispheres' not found in ZIP.\n",
      "WARNING  File 'areas' not found in ZIP.\n",
      "/home/maedoc/src/tvb-root/scientific_library/tvb/dsl_cuda/run/cuda_run.py:28: UserWarning: The CUDA compiler succeeded, but said the following:\n",
      "kernel.cu(67): warning: variable \"global_speed\" was declared but never referenced\n",
      "\n",
      "kernel.cu(68): warning: variable \"global_coupling\" was declared but never referenced\n",
      "\n",
      "kernel.cu(91): warning: variable \"J_N\" was declared but never referenced\n",
      "\n",
      "kernel.cu(92): warning: variable \"J_I\" was declared but never referenced\n",
      "\n",
      "kernel.cu(94): warning: variable \"lamda\" was declared but never referenced\n",
      "\n",
      "kernel.cu(107): warning: variable \"rec_n\" was declared but never referenced\n",
      "\n",
      "kernel.cu(108): warning: variable \"rec_speed_dt\" was declared but never referenced\n",
      "\n",
      "ptxas info    : 64448 bytes gmem, 72 bytes cmem[3]\n",
      "ptxas info    : Compiling entry function '_Z9RwongwangjjjjjffPfS_S_S_S_' for 'sm_75'\n",
      "ptxas info    : Function properties for _Z9RwongwangjjjjjffPfS_S_S_S_\n",
      "    0 bytes stack frame, 0 bytes spill stores, 0 bytes spill loads\n",
      "ptxas info    : Used 32 registers, 424 bytes cmem[0], 8 bytes cmem[2]\n",
      "\n",
      "  network_module = SourceModule(\n",
      "100%|███████████████████████████████████████████| 40/40 [00:03<00:00, 12.40it/s]\n"
     ]
    }
   ],
   "source": [
    "!python -m tvb.dsl_cuda.run --model Rwongwang -n 40 -c 64 -s 64"
   ]
  },
  {
   "cell_type": "markdown",
   "metadata": {},
   "source": [
    "This demonstrates a 64x64 sweep completed in 3s on a Nvidia RTX5000 GPU. \n",
    "\n",
    "## Detailed usage\n",
    "\n",
    "More extensive integration and output analysis in the notebook is possible by making direct use of the API exposed in the dsl_cuda module. \n",
    "\n",
    "We start with a few imports and set up,"
   ]
  },
  {
   "cell_type": "code",
   "execution_count": 8,
   "metadata": {},
   "outputs": [],
   "source": [
    "import numpy as np\n",
    "import pycuda.autoinit\n",
    "import itertools\n",
    "import argparse\n",
    "from tvb.datatypes.connectivity import Connectivity\n",
    "from tvb.simulator import coupling, integrators\n",
    "import tvb.dsl_cuda\n",
    "from tvb.dsl_cuda import LEMS2CUDA\n",
    "from tvb.dsl_cuda.run.cuda_run import CudaRun\n",
    "import os\n",
    "import logging\n",
    "import tqdm\n",
    "logger = logging.getLogger('[gpu_demo]')\n",
    "cu_models_path = os.path.join(os.path.dirname(tvb.dsl_cuda.__file__), 'CUDAmodels')"
   ]
  },
  {
   "cell_type": "markdown",
   "metadata": {},
   "source": [
    "as the internal structure of the GPU support is oriented around the CLI we'll reproduce the argument parser here"
   ]
  },
  {
   "cell_type": "code",
   "execution_count": 9,
   "metadata": {},
   "outputs": [
    {
     "data": {
      "text/plain": [
       "_StoreAction(option_strings=['-val', '--validate'], dest='validate', nargs=None, const=None, default=False, type=None, choices=None, help='Enable validation to refmodels', metavar=None)"
      ]
     },
     "execution_count": 9,
     "metadata": {},
     "output_type": "execute_result"
    }
   ],
   "source": [
    "parser = argparse.ArgumentParser()\n",
    "parser.add_argument('-c', '--n_coupling', help='num grid points for coupling parameter', default=32, type=int)\n",
    "parser.add_argument('-s', '--n_speed', help='num grid points for speed parameter', default=32, type=int)\n",
    "parser.add_argument('-t', '--test', help='check results', action='store_true')\n",
    "parser.add_argument('-n', '--n_time', help='number of time steps to do (default 400)', type=int, default=400)\n",
    "parser.add_argument('-v', '--verbose', help='increase logging verbosity', action='store_true', default='-v')\n",
    "parser.add_argument('--node_threads', default=1, type=int)\n",
    "parser.add_argument('--model',\n",
    "                    choices=['Rwongwang', 'Kuramoto', 'Epileptor', 'Oscillator', \\\n",
    "                             'Oscillatorref', 'Kuramotoref', 'Rwongwangref', 'Epileptorref'],\n",
    "                    help=\"neural mass model to be used during the simulation\",\n",
    "                    default='Oscillator'\n",
    "                    )\n",
    "parser.add_argument('--lineinfo', default=True, action='store_true')\n",
    "\n",
    "parser.add_argument('--filename', default=\"kuramoto_network.c\", type=str,\n",
    "                    help=\"Filename to use as GPU kernel definition\")\n",
    "\n",
    "parser.add_argument('-b', '--bench', default=\"regular\", type=str, help=\"What to bench: regular, numba, cuda\")\n",
    "\n",
    "parser.add_argument('-bx', '--blockszx', default=\"32\", type=int, help=\"Enter block size x\")\n",
    "parser.add_argument('-by', '--blockszy', default=\"32\", type=int, help=\"Enter block size y\")\n",
    "\n",
    "parser.add_argument('-val', '--validate', default=False, help=\"Enable validation to refmodels\")"
   ]
  },
  {
   "cell_type": "markdown",
   "metadata": {},
   "source": [
    "which then allows us to then create the configuration easily, in a single line,"
   ]
  },
  {
   "cell_type": "code",
   "execution_count": 10,
   "metadata": {},
   "outputs": [
    {
     "data": {
      "text/plain": [
       "Namespace(bench='regular', blockszx=32, blockszy=32, filename='kuramoto_network.c', lineinfo=True, model='Kuramoto', n_coupling=32, n_speed=32, n_time=400, node_threads=1, test=False, validate=False, verbose='-v')"
      ]
     },
     "execution_count": 10,
     "metadata": {},
     "output_type": "execute_result"
    }
   ],
   "source": [
    "args = parser.parse_args('-c 32 -s 32 --model Kuramoto'.split(' '))\n",
    "args"
   ]
  },
  {
   "cell_type": "markdown",
   "metadata": {},
   "source": [
    "As in TVB, we construct a connectivity and coupling function,"
   ]
  },
  {
   "cell_type": "code",
   "execution_count": 11,
   "metadata": {},
   "outputs": [
    {
     "name": "stdout",
     "output_type": "stream",
     "text": [
      "2020-09-11 14:58:18,514 - WARNING - tvb.basic.readers - File 'cortical' not found in ZIP.\n",
      "2020-09-11 14:58:18,516 - WARNING - tvb.basic.readers - File 'hemispheres' not found in ZIP.\n",
      "2020-09-11 14:58:18,516 - WARNING - tvb.basic.readers - File 'areas' not found in ZIP.\n"
     ]
    }
   ],
   "source": [
    "connectivity = Connectivity.from_file(source_file=\"connectivity_68.zip\")\n",
    "connectivity.configure()\n",
    "speed = np.array([3.0])\n",
    "coupling = coupling.Linear(a=np.array([0.1]))"
   ]
  },
  {
   "cell_type": "markdown",
   "metadata": {},
   "source": [
    "We specify a grid of parameter values to sweep,"
   ]
  },
  {
   "cell_type": "code",
   "execution_count": 12,
   "metadata": {},
   "outputs": [],
   "source": [
    "couplings = np.logspace(1.6, 3.0, args.n_coupling)\n",
    "speeds = np.logspace(0.0, 2.0, args.n_speed)\n",
    "params_iter = itertools.product(speeds, couplings)\n",
    "params = np.array([vals for vals in params_iter], np.float32)"
   ]
  },
  {
   "cell_type": "markdown",
   "metadata": {},
   "source": [
    "set up the rest of the simulator details,"
   ]
  },
  {
   "cell_type": "code",
   "execution_count": 13,
   "metadata": {},
   "outputs": [],
   "source": [
    "g = np.array([1.0])\n",
    "s = np.array([1.0])\n",
    "dt = 0.1\n",
    "period = 10.0\n",
    "omega = 60.0 * 2.0 * np.pi / 1e3\n",
    "integrator = integrators.EulerDeterministic(dt=dt)\n",
    "weights = SC = connectivity.weights\n",
    "lengths = connectivity.tract_lengths\n",
    "n_nodes = weights.shape[0]\n",
    "tavg_period = 10.0\n",
    "nstep = args.n_time\n",
    "n_inner_steps = int(tavg_period / dt)\n",
    "n_work_items, n_params = params.shape\n",
    "min_speed = speeds.min()\n",
    "buf_len_ = ((lengths / min_speed / dt).astype('i').max() + 1)\n",
    "buf_len = 2 ** np.argwhere(2 ** np.r_[:30] > buf_len_)[0][0]  # use next power of 2\n",
    "states = 1"
   ]
  },
  {
   "cell_type": "markdown",
   "metadata": {},
   "source": [
    "and then run the parameter sweep"
   ]
  },
  {
   "cell_type": "code",
   "execution_count": 17,
   "metadata": {},
   "outputs": [
    {
     "name": "stderr",
     "output_type": "stream",
     "text": [
      "/home/maedoc/src/tvb-root/scientific_library/tvb/dsl_cuda/run/cuda_run.py:28: UserWarning: The CUDA compiler succeeded, but said the following:\n",
      "ptxas info    : 64448 bytes gmem, 96 bytes cmem[3]\n",
      "ptxas info    : Compiling entry function '_Z8KuramotojjjjjffPfS_S_S_S_' for 'sm_75'\n",
      "ptxas info    : Function properties for _Z8KuramotojjjjjffPfS_S_S_S_\n",
      "    32 bytes stack frame, 0 bytes spill stores, 0 bytes spill loads\n",
      "ptxas info    : Used 32 registers, 424 bytes cmem[0], 16 bytes cmem[2]\n",
      "\n",
      "  network_module = SourceModule(\n",
      "100%|██████████| 400/400 [00:37<00:00, 10.58it/s]\n"
     ]
    }
   ],
   "source": [
    "args.filename = cu_models_path + f'/{args.model.lower()}.c'\n",
    "states = 1\n",
    "runner = CudaRun()\n",
    "tavg_data = runner.run_simulation(\n",
    "    weights, lengths, params, speeds, logger,\n",
    "    args, n_nodes, n_work_items, n_params, nstep,\n",
    "    n_inner_steps, buf_len, states, dt, min_speed)"
   ]
  },
  {
   "cell_type": "code",
   "execution_count": 43,
   "metadata": {},
   "outputs": [
    {
     "data": {
      "image/png": "[encoded data removed]",
      "text/plain": [
       "<Figure size 432x288 with 1 Axes>"
      ]
     },
     "metadata": {
      "needs_background": "light"
     },
     "output_type": "display_data"
    }
   ],
   "source": [
    "plot(cos(tavg_data[..., 0]) + np.r_[:68]/15.0, 'k');"
   ]
  },
  {
   "cell_type": "markdown",
   "metadata": {},
   "source": [
    "With the temporal average at 10 Hz in hand, we can now do some post processing, such as computing the functional connectivities,"
   ]
  },
  {
   "cell_type": "code",
   "execution_count": 25,
   "metadata": {},
   "outputs": [
    {
     "name": "stderr",
     "output_type": "stream",
     "text": [
      "100%|██████████| 1024/1024 [00:00<00:00, 1957.60it/s]\n"
     ]
    }
   ],
   "source": [
    "cc = np.zeros((1024, 68, 68), 'f')\n",
    "for i in tqdm.trange(1024):\n",
    "    cc[i] = np.corrcoef(tavg_data[..., 0].T)"
   ]
  },
  {
   "cell_type": "markdown",
   "metadata": {},
   "source": [
    "and then compute an L2 norm with the structural connectivity, "
   ]
  },
  {
   "cell_type": "code",
   "execution_count": 29,
   "metadata": {},
   "outputs": [],
   "source": [
    "l2 = np.sqrt(np.sum(np.sum((cc - weights)**2, axis=-1), axis=-1)).reshape((32, 32))"
   ]
  },
  {
   "cell_type": "markdown",
   "metadata": {},
   "source": [
    "and then visualize it,"
   ]
  },
  {
   "cell_type": "code",
   "execution_count": 31,
   "metadata": {},
   "outputs": [
    {
     "name": "stdout",
     "output_type": "stream",
     "text": [
      "Populating the interactive namespace from numpy and matplotlib\n"
     ]
    },
    {
     "data": {
      "text/plain": [
       "<matplotlib.image.AxesImage at 0x7ff26de34dc0>"
      ]
     },
     "execution_count": 31,
     "metadata": {},
     "output_type": "execute_result"
    },
    {
     "name": "stderr",
     "output_type": "stream",
     "text": [
      "/home/maedoc/miniconda3/envs/tvb-dsl-cuda/lib/python3.8/site-packages/matplotlib/image.py:446: UserWarning: Warning: converting a masked element to nan.\n",
      "  dv = np.float64(self.norm.vmax) - np.float64(self.norm.vmin)\n",
      "/home/maedoc/miniconda3/envs/tvb-dsl-cuda/lib/python3.8/site-packages/matplotlib/image.py:453: UserWarning: Warning: converting a masked element to nan.\n",
      "  a_min = np.float64(newmin)\n",
      "/home/maedoc/miniconda3/envs/tvb-dsl-cuda/lib/python3.8/site-packages/matplotlib/image.py:458: UserWarning: Warning: converting a masked element to nan.\n",
      "  a_max = np.float64(newmax)\n",
      "/home/maedoc/miniconda3/envs/tvb-dsl-cuda/lib/python3.8/site-packages/matplotlib/image.py:477: UserWarning: Warning: converting a masked element to nan.\n",
      "  vrange = np.array([self.norm.vmin, self.norm.vmax],\n"
     ]
    },
    {
     "data": {
      "image/png": "[encoded data removed]",
      "text/plain": [
       "<Figure size 432x288 with 1 Axes>"
      ]
     },
     "metadata": {
      "needs_background": "light"
     },
     "output_type": "display_data"
    }
   ],
   "source": [
    "%pylab inline\n",
    "imshow(l2)"
   ]
  },
  {
   "cell_type": "markdown",
   "metadata": {},
   "source": [
    "Here the is an issue with the choice of parameters causing NaNs."
   ]
  }
 ],
 "metadata": {
  "kernelspec": {
   "display_name": "Python 3",
   "language": "python",
   "name": "python3"
  },
  "language_info": {
   "codemirror_mode": {
    "name": "ipython",
    "version": 3
   },
   "file_extension": ".py",
   "mimetype": "text/x-python",
   "name": "python",
   "nbconvert_exporter": "python",
   "pygments_lexer": "ipython3",
   "version": "3.8.5"
  }
 },
 "nbformat": 4,
 "nbformat_minor": 4
}
