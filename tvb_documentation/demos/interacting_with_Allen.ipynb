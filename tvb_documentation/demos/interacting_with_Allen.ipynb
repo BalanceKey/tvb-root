{
 "cells": [
  {
   "cell_type": "markdown",
   "metadata": {},
   "source": [
    "## TODO - Needs fix"
   ]
  },
  {
   "cell_type": "code",
   "execution_count": 1,
   "metadata": {
    "scrolled": true
   },
   "outputs": [
    {
     "name": "stdout",
     "output_type": "stream",
     "text": [
      "2020-10-22 11:53:02,593 - WARNING - tvb.config.init.introspector_registry - Skipped Adapter(probably because MATLAB not found):<class 'tvb.adapters.analyzers.bct_adapters.DistanceDBIN'>\n",
      "2020-10-22 11:53:02,595 - WARNING - tvb.config.init.introspector_registry - Skipped Adapter(probably because MATLAB not found):<class 'tvb.adapters.analyzers.bct_adapters.DistanceDWEI'>\n",
      "2020-10-22 11:53:02,595 - WARNING - tvb.config.init.introspector_registry - Skipped Adapter(probably because MATLAB not found):<class 'tvb.adapters.analyzers.bct_adapters.DistanceNETW'>\n",
      "2020-10-22 11:53:02,596 - WARNING - tvb.config.init.introspector_registry - Skipped Adapter(probably because MATLAB not found):<class 'tvb.adapters.analyzers.bct_adapters.DistanceRDA'>\n",
      "2020-10-22 11:53:02,597 - WARNING - tvb.config.init.introspector_registry - Skipped Adapter(probably because MATLAB not found):<class 'tvb.adapters.analyzers.bct_adapters.DistanceRDM'>\n",
      "2020-10-22 11:53:02,598 - WARNING - tvb.config.init.introspector_registry - Skipped Adapter(probably because MATLAB not found):<class 'tvb.adapters.analyzers.bct_adapters.ModularityOCSM'>\n",
      "2020-10-22 11:53:02,598 - WARNING - tvb.config.init.introspector_registry - Skipped Adapter(probably because MATLAB not found):<class 'tvb.adapters.analyzers.bct_adapters.ModularityOpCSMU'>\n",
      "2020-10-22 11:53:02,606 - WARNING - tvb.config.init.introspector_registry - Skipped Adapter(probably because MATLAB not found):<class 'tvb.adapters.analyzers.bct_centrality_adapters.CentralityEdgeBinary'>\n",
      "2020-10-22 11:53:02,607 - WARNING - tvb.config.init.introspector_registry - Skipped Adapter(probably because MATLAB not found):<class 'tvb.adapters.analyzers.bct_centrality_adapters.CentralityEdgeWeighted'>\n",
      "2020-10-22 11:53:02,608 - WARNING - tvb.config.init.introspector_registry - Skipped Adapter(probably because MATLAB not found):<class 'tvb.adapters.analyzers.bct_centrality_adapters.CentralityEigenVector'>\n",
      "2020-10-22 11:53:02,610 - WARNING - tvb.config.init.introspector_registry - Skipped Adapter(probably because MATLAB not found):<class 'tvb.adapters.analyzers.bct_centrality_adapters.CentralityKCoreness'>\n",
      "2020-10-22 11:53:02,611 - WARNING - tvb.config.init.introspector_registry - Skipped Adapter(probably because MATLAB not found):<class 'tvb.adapters.analyzers.bct_centrality_adapters.CentralityKCorenessBD'>\n",
      "2020-10-22 11:53:02,612 - WARNING - tvb.config.init.introspector_registry - Skipped Adapter(probably because MATLAB not found):<class 'tvb.adapters.analyzers.bct_centrality_adapters.CentralityNodeBinary'>\n",
      "2020-10-22 11:53:02,613 - WARNING - tvb.config.init.introspector_registry - Skipped Adapter(probably because MATLAB not found):<class 'tvb.adapters.analyzers.bct_centrality_adapters.CentralityNodeWeighted'>\n",
      "2020-10-22 11:53:02,614 - WARNING - tvb.config.init.introspector_registry - Skipped Adapter(probably because MATLAB not found):<class 'tvb.adapters.analyzers.bct_centrality_adapters.CentralityShortcuts'>\n",
      "2020-10-22 11:53:02,614 - WARNING - tvb.config.init.introspector_registry - Skipped Adapter(probably because MATLAB not found):<class 'tvb.adapters.analyzers.bct_centrality_adapters.FlowCoefficients'>\n",
      "2020-10-22 11:53:02,615 - WARNING - tvb.config.init.introspector_registry - Skipped Adapter(probably because MATLAB not found):<class 'tvb.adapters.analyzers.bct_centrality_adapters.ParticipationCoefficient'>\n",
      "2020-10-22 11:53:02,616 - WARNING - tvb.config.init.introspector_registry - Skipped Adapter(probably because MATLAB not found):<class 'tvb.adapters.analyzers.bct_centrality_adapters.ParticipationCoefficientSign'>\n",
      "2020-10-22 11:53:02,617 - WARNING - tvb.config.init.introspector_registry - Skipped Adapter(probably because MATLAB not found):<class 'tvb.adapters.analyzers.bct_centrality_adapters.SubgraphCentrality'>\n",
      "2020-10-22 11:53:02,626 - WARNING - tvb.config.init.introspector_registry - Skipped Adapter(probably because MATLAB not found):<class 'tvb.adapters.analyzers.bct_clustering_adapters.ClusteringCoefficient'>\n",
      "2020-10-22 11:53:02,627 - WARNING - tvb.config.init.introspector_registry - Skipped Adapter(probably because MATLAB not found):<class 'tvb.adapters.analyzers.bct_clustering_adapters.ClusteringCoefficientBU'>\n",
      "2020-10-22 11:53:02,628 - WARNING - tvb.config.init.introspector_registry - Skipped Adapter(probably because MATLAB not found):<class 'tvb.adapters.analyzers.bct_clustering_adapters.ClusteringCoefficientWD'>\n",
      "2020-10-22 11:53:02,629 - WARNING - tvb.config.init.introspector_registry - Skipped Adapter(probably because MATLAB not found):<class 'tvb.adapters.analyzers.bct_clustering_adapters.ClusteringCoefficientWU'>\n",
      "2020-10-22 11:53:02,630 - WARNING - tvb.config.init.introspector_registry - Skipped Adapter(probably because MATLAB not found):<class 'tvb.adapters.analyzers.bct_clustering_adapters.TransitivityBinaryDirected'>\n",
      "2020-10-22 11:53:02,632 - WARNING - tvb.config.init.introspector_registry - Skipped Adapter(probably because MATLAB not found):<class 'tvb.adapters.analyzers.bct_clustering_adapters.TransitivityBinaryUnDirected'>\n",
      "2020-10-22 11:53:02,633 - WARNING - tvb.config.init.introspector_registry - Skipped Adapter(probably because MATLAB not found):<class 'tvb.adapters.analyzers.bct_clustering_adapters.TransitivityWeightedDirected'>\n",
      "2020-10-22 11:53:02,634 - WARNING - tvb.config.init.introspector_registry - Skipped Adapter(probably because MATLAB not found):<class 'tvb.adapters.analyzers.bct_clustering_adapters.TransitivityWeightedUnDirected'>\n",
      "2020-10-22 11:53:02,643 - WARNING - tvb.config.init.introspector_registry - Skipped Adapter(probably because MATLAB not found):<class 'tvb.adapters.analyzers.bct_degree_adapters.Degree'>\n",
      "2020-10-22 11:53:02,644 - WARNING - tvb.config.init.introspector_registry - Skipped Adapter(probably because MATLAB not found):<class 'tvb.adapters.analyzers.bct_degree_adapters.DegreeIOD'>\n",
      "2020-10-22 11:53:02,645 - WARNING - tvb.config.init.introspector_registry - Skipped Adapter(probably because MATLAB not found):<class 'tvb.adapters.analyzers.bct_degree_adapters.DensityDirected'>\n",
      "2020-10-22 11:53:02,646 - WARNING - tvb.config.init.introspector_registry - Skipped Adapter(probably because MATLAB not found):<class 'tvb.adapters.analyzers.bct_degree_adapters.DensityUndirected'>\n",
      "2020-10-22 11:53:02,646 - WARNING - tvb.config.init.introspector_registry - Skipped Adapter(probably because MATLAB not found):<class 'tvb.adapters.analyzers.bct_degree_adapters.JointDegree'>\n",
      "2020-10-22 11:53:02,647 - WARNING - tvb.config.init.introspector_registry - Skipped Adapter(probably because MATLAB not found):<class 'tvb.adapters.analyzers.bct_degree_adapters.MatchingIndex'>\n",
      "2020-10-22 11:53:02,648 - WARNING - tvb.config.init.introspector_registry - Skipped Adapter(probably because MATLAB not found):<class 'tvb.adapters.analyzers.bct_degree_adapters.Strength'>\n",
      "2020-10-22 11:53:02,649 - WARNING - tvb.config.init.introspector_registry - Skipped Adapter(probably because MATLAB not found):<class 'tvb.adapters.analyzers.bct_degree_adapters.StrengthISOS'>\n",
      "2020-10-22 11:53:02,649 - WARNING - tvb.config.init.introspector_registry - Skipped Adapter(probably because MATLAB not found):<class 'tvb.adapters.analyzers.bct_degree_adapters.StrengthWeights'>\n",
      "2020-10-22 11:53:04,362 - INFO - tvb.config.init.model_manager - Database already has some data, will not be re-created!\n"
     ]
    }
   ],
   "source": [
    "from tvb.interfaces.command.lab import *\n",
    "from tvb.adapters.creators.allen_creator import AllenConnectomeBuilder\n",
    "from tvb.adapters.creators.allen_creator import AllenConnectModel\n",
    "from tvb.core.adapters.abcadapter import ABCAdapter\n",
    "from tvb.core.services.operation_service import OperationService"
   ]
  },
  {
   "cell_type": "markdown",
   "metadata": {},
   "source": [
    "For the next step to work correctly, you should have launched TVB Web GUI at least once, and fill the settings step.\n",
    "At least one project needs to exist in your local environment for the following operations to exist in."
   ]
  },
  {
   "cell_type": "code",
   "execution_count": 2,
   "metadata": {},
   "outputs": [
    {
     "name": "stdout",
     "output_type": "stream",
     "text": [
      "                    name    id\n",
      "         Default_Project     1\n"
     ]
    }
   ],
   "source": [
    "list_projects()"
   ]
  },
  {
   "cell_type": "code",
   "execution_count": 4,
   "metadata": {},
   "outputs": [
    {
     "name": "stdout",
     "output_type": "stream",
     "text": [
      "2020-10-22 11:59:33,702 - INFO - tvb.core.services.operation_service - Starting operation AllenConnectomeBuilder\n",
      "2020-10-22 11:59:33,753 - INFO - tvb.core.services.operation_service - Finished operation launch:AllenConnectomeBuilder\n"
     ]
    }
   ],
   "source": [
    "## This ID of a project needs to exists in Db, and it can be taken from the WebInterface:\n",
    "project = dao.get_project_by_id(1)\n",
    "    \n",
    "builder_instance = ABCAdapter.build_adapter_from_class(AllenConnectomeBuilder)\n",
    "\n",
    "view_model = AllenConnectModel()\n",
    "view_model.resolution = 100\n",
    "view_model.weighting = 1\n",
    "view_model.inj_f_thresh = 80\n",
    "view_model.vol_thresh= 100000000\n",
    "\n",
    "## launch an operation and have the results stored both in DB and on disk\n",
    "operation_service = OperationService()\n",
    "launched_operations = operation_service.fire_operation(builder_instance,\n",
    "                                                  project.administrator,\n",
    "                                                  project.id,\n",
    "                                                  view_model = view_model)"
   ]
  },
  {
   "cell_type": "code",
   "execution_count": 23,
   "metadata": {},
   "outputs": [
    {
     "data": {
      "text/plain": [
       "<Operation('4b7a893000d144ab883e54d9bf4a0e2c', e760979e-1444-11eb-8ae7-faffc245676e, 2,'1','64','2020-10-22 11:59:33.712976','2020-10-22 11:59:38.578661', '2020-10-22 13:39:48.233128','5-FINISHED',True, 'None', '2020-10-22,13-39-48', '', -1)>"
      ]
     },
     "execution_count": 23,
     "metadata": {},
     "output_type": "execute_result"
    }
   ],
   "source": [
    "launched_operation = launched_operations[0]\n",
    "# wait for the operation to finish\n",
    "while not launched_operation.has_finished:\n",
    "    sleep(5)\n",
    "    launched_operation = dao.get_operation_by_id(launched_operation.id)\n",
    "\n",
    "launched_operation"
   ]
  },
  {
   "cell_type": "markdown",
   "metadata": {
    "collapsed": true
   },
   "source": [
    "At this point, your operation of Allen DB import should be running in the background.\n",
    "If you launch TVB web GUI, and you go to Project -> Operations page, you should see the new operation running (state color BLUE).\n",
    "\n",
    "When done, your results will be ready for inspection in TVB web GUI.\n",
    "Do not close your computer until the operation has finished. If you do so, then relaunch after you restart. Downloaded files will not be lost, but found by the new operation.\n"
   ]
  },
  {
   "cell_type": "code",
   "execution_count": 24,
   "metadata": {},
   "outputs": [
    {
     "data": {
      "text/plain": [
       "[<DataType(33, 17a5aca1646d49a6bff3b1da783e4461, ConnectivityIndex, tvb.adapters.datatypes.db.connectivity, John Doe, RAW_DATA, None, None, , , , )>,\n",
       " <DataType(34, c2b8eaa0c81043929874ec0cbf916f5c, VolumeIndex, tvb.adapters.datatypes.db.volume, John Doe, RAW_DATA, None, None, , , , )>,\n",
       " <DataType(35, 378beafb864b4e64aa9aa115fbb4dd57, RegionVolumeMappingIndex, tvb.adapters.datatypes.db.region_mapping, John Doe, RAW_DATA, None, None, , , , )>,\n",
       " <DataType(36, 4565179ffa1d4173b3f0acb500614b32, StructuralMRIIndex, tvb.adapters.datatypes.db.structural, John Doe, RAW_DATA, None, None, , , , )>]"
      ]
     },
     "execution_count": 24,
     "metadata": {},
     "output_type": "execute_result"
    }
   ],
   "source": [
    "from tvb.core.services.project_service import ProjectService\n",
    "results = ProjectService().get_results_for_operation(op.id)\n",
    "results"
   ]
  }
 ],
 "metadata": {
  "kernelspec": {
   "display_name": "Python 3",
   "language": "python",
   "name": "python3"
  },
  "language_info": {
   "codemirror_mode": {
    "name": "ipython",
    "version": 3
   },
   "file_extension": ".py",
   "mimetype": "text/x-python",
   "name": "python",
   "nbconvert_exporter": "python",
   "pygments_lexer": "ipython3",
   "version": "3.7.7"
  }
 },
 "nbformat": 4,
 "nbformat_minor": 1
}
